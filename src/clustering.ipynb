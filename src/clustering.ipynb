{
 "cells": [
  {
   "cell_type": "markdown",
   "metadata": {},
   "source": [
    "# Imports"
   ]
  },
  {
   "cell_type": "code",
   "execution_count": null,
   "metadata": {},
   "outputs": [],
   "source": [
    "import plotly.express as px\n",
    "import pandas as pd\n",
    "from sklearn.cluster import DBSCAN, KMeans\n",
    "from shapely.geometry import Point\n",
    "import geopandas as gpd\n",
    "import numpy as np\n",
    "dictionary = {\"Monday\": 1, \"Tuesday\": 2, \"Wednesday\": 3, \"Thursday\": 4, \"Friday\": 5, \"Saturday\": 6, \"Sunday\": 7}"
   ]
  },
  {
   "cell_type": "code",
   "execution_count": null,
   "metadata": {},
   "outputs": [],
   "source": [
    "def read_df(m = 10000, filepath = \"..\\\\data\\\\data_refactored\\\\uber-raw-data-14.csv\"):\n",
    "    df = pd.read_csv(filepath)\n",
    "    n = len(df) // m\n",
    "    df = df.iloc[::n, :]\n",
    "    df = df.replace({\"Day_Name\": dictionary})\n",
    "    \n",
    "\n",
    "    return df\n",
    "main_df = read_df()"
   ]
  },
  {
   "cell_type": "markdown",
   "metadata": {},
   "source": [
    "# Function definitions"
   ]
  },
  {
   "cell_type": "code",
   "execution_count": null,
   "metadata": {},
   "outputs": [],
   "source": [
    "# DBSCAN\n",
    "def get_centroid_df(df, eps=0.005, min_samples=5):\n",
    "    points_df = gpd.GeoDataFrame(df[[\"Lat\",\"Lon\"]])[:3400]\n",
    "    points_df['geometry'] = df.apply(lambda row: Point(row.Lon, row.Lat), axis=1)\n",
    "    points_gdf = gpd.GeoDataFrame(points_df, geometry='geometry')\n",
    "\n",
    "    points = np.array([(p.x, p.y) for p in points_gdf.geometry])\n",
    "\n",
    "    # Use DBSCAN to cluster the points\n",
    "    dbscan = DBSCAN(eps=eps, min_samples=min_samples)\n",
    "    labels = dbscan.fit_predict(points)\n",
    "\n",
    "    # Assign the cluster labels to the GeoDataFrame\n",
    "    points_gdf[\"cluster\"] = labels\n",
    "\n",
    "    # Calculate the centroids of each cluster\n",
    "    centroids = points_gdf.dissolve(by=\"cluster\").centroid\n",
    "    centroids_gdf = gpd.GeoDataFrame(geometry=centroids)\n",
    "\n",
    "    cluster_size = points_gdf.groupby(\"cluster\").count()[\"geometry\"]\n",
    "    cluster_size = cluster_size.rename(\"cluster_size\")\n",
    "    centroids_gdf = centroids_gdf.join(cluster_size, on='cluster')\n",
    "    \n",
    "    centroids_gdf['Lat'] = centroids_gdf['geometry'].apply(lambda x: x.y)\n",
    "    centroids_gdf['Lon'] = centroids_gdf['geometry'].apply(lambda x: x.x)\n",
    "    \n",
    "    return centroids_gdf[['Lat', 'Lon', 'cluster_size']]"
   ]
  },
  {
   "cell_type": "code",
   "execution_count": null,
   "metadata": {},
   "outputs": [],
   "source": [
    "# KMEANS\n",
    "def get_centroid_df(df, n_clusters=10):\n",
    "    points_df = gpd.GeoDataFrame(df[[\"Lat\",\"Lon\"]])[:3400]\n",
    "    points_df['geometry'] = df.apply(lambda row: Point(row.Lon, row.Lat), axis=1)\n",
    "    points_gdf = gpd.GeoDataFrame(points_df, geometry='geometry')\n",
    "\n",
    "    points = np.array([(p.x, p.y) for p in points_gdf.geometry])\n",
    "\n",
    "    # Use KMeans to cluster the points\n",
    "    kmeans = KMeans(n_clusters=n_clusters, init='k-means++', n_init=10)\n",
    "    kmeans.fit(points)\n",
    "    labels = kmeans.predict(points)\n",
    "    \n",
    "    # Assign the cluster labels to the GeoDataFrame\n",
    "    points_gdf[\"cluster\"] = labels\n",
    "\n",
    "    # Calculate the centroids of each cluster\n",
    "    centroids = points_gdf.dissolve(by=\"cluster\").centroid\n",
    "    centroids_gdf = gpd.GeoDataFrame(geometry=centroids)\n",
    "\n",
    "    cluster_size = points_gdf.groupby(\"cluster\").count()[\"geometry\"]\n",
    "    cluster_size = cluster_size.rename(\"cluster_size\")\n",
    "    centroids_gdf = centroids_gdf.join(cluster_size, on='cluster')\n",
    "    \n",
    "    centroids_gdf['Lat'] = centroids_gdf['geometry'].apply(lambda x: x.y)\n",
    "    centroids_gdf['Lon'] = centroids_gdf['geometry'].apply(lambda x: x.x)\n",
    "    \n",
    "    return centroids_gdf[['Lat', 'Lon', 'cluster_size']]"
   ]
  },
  {
   "cell_type": "code",
   "execution_count": null,
   "metadata": {},
   "outputs": [],
   "source": [
    "def visualize_month(df=main_df, months:list[int]=None, latit = \"Lat\", longi = \"Lon\"):\n",
    "    \"\"\"Zwizualizowanie rozłożenie zamówień według miesięcy\"\"\"\n",
    "    \n",
    "    df = main_df.copy()\n",
    "    if months: df = df[df['Month'].isin(months)]\n",
    "    if len(df) == 0: return\n",
    "        \n",
    "    centroids_gdfs = []\n",
    "    months = set(df[\"Month\"])\n",
    "    for month in months:\n",
    "        centroid_gdf = get_centroid_df(df[df['Month'] == month])\n",
    "        centroid_gdf[\"Month\"] = month\n",
    "        centroids_gdfs.append(centroid_gdf)\n",
    "\n",
    "    centroids_gdfs = pd.concat(centroids_gdfs, axis = 0)\n",
    "    \n",
    "    centroids_gdfs['Month'] = centroids_gdfs['Month'].astype(str)\n",
    "    fig = px.scatter_mapbox(centroids_gdfs, lat=\"Lat\", lon=\"Lon\", color=\"Month\", size=\"cluster_size\",\n",
    "                      color_discrete_sequence=px.colors.qualitative.Dark24,\n",
    "                      size_max=50, zoom=10, mapbox_style=\"carto-positron\")\n",
    "\n",
    "    fig.show()"
   ]
  },
  {
   "cell_type": "code",
   "execution_count": null,
   "metadata": {},
   "outputs": [],
   "source": [
    "def visualize_week_day(df=main_df, days:list[int]=None, latit = \"Lat\", longi = \"Lon\"):\n",
    "    \"\"\"Zwizualizowanie rozłożenie zamówień według dni tygodnia\"\"\"\n",
    "    \n",
    "    df = main_df.copy()\n",
    "    if days: df = df[df['Day_Name'].isin(days)]\n",
    "    if len(df) == 0: return\n",
    "\n",
    "    centroids_gdfs = []\n",
    "    for day_name in dictionary.values():\n",
    "        centroid_gdf = get_centroid_df(df[df['Day_Name'].eq(day_name)])\n",
    "        centroid_gdf[\"Day_Name\"] = day_name\n",
    "        centroids_gdfs.append(centroid_gdf)\n",
    "\n",
    "    centroids_gdfs = pd.concat(centroids_gdfs, axis = 0)\n",
    "\n",
    "    centroids_gdfs['Day_Name'] = centroids_gdfs['Day_Name'].astype(str)\n",
    "    fig = px.scatter_mapbox(centroids_gdfs, lat=latit, lon=longi, color=\"Day_Name\", size=\"cluster_size\",\n",
    "                     color_discrete_sequence=px.colors.qualitative.Dark24, \n",
    "                      size_max=50, zoom=10, mapbox_style=\"carto-positron\")\n",
    "\n",
    "    fig.show()"
   ]
  },
  {
   "cell_type": "code",
   "execution_count": null,
   "metadata": {},
   "outputs": [],
   "source": [
    "def visualize_by_time(df=main_df, hours:list[int]=None, dest_month=None, dest_day_name=None, latit = \"Lat\", longi = \"Lon\"):\n",
    "    \"\"\"Zwizualizowanie rozłożenie zamówień według pory dnia\"\"\"\n",
    "    df = main_df.copy()\n",
    "    if dest_month: df = df[df[\"Day_Name\"].eq(dest_month)]\n",
    "    if dest_day_name: df = df[df[\"Day_Name\"].eq(dest_day_name)]\n",
    "        \n",
    "    df[\"Hour\"] = pd.cut(df['Minutes'], bins=24, labels=range(24))\n",
    "    df_list = [group[1] for group in df.groupby('Hour')]\n",
    "    \n",
    "    if hours: df_list = [df_list[i] for i in hours]\n",
    "         \n",
    "    centroids_gdfs = []\n",
    "    for hour_df in df_list:\n",
    "        hour = hour_df['Hour'].unique()[0]\n",
    "        centroid_gdf = get_centroid_df(hour_df)\n",
    "        centroid_gdf[\"Hour\"] = hour\n",
    "        centroids_gdfs.append(centroid_gdf)\n",
    "\n",
    "    centroids_gdfs = pd.concat(centroids_gdfs, axis = 0)\n",
    "\n",
    "    centroids_gdfs['Hour'] = centroids_gdfs['Hour'].astype(str)\n",
    "    fig = px.scatter_mapbox(centroids_gdfs, lat=\"Lat\", lon=\"Lon\", color=\"Hour\", size=\"cluster_size\",\n",
    "                            color_discrete_sequence=px.colors.qualitative.Dark24,\n",
    "                            size_max=50, zoom=10, mapbox_style=\"carto-positron\")\n",
    "\n",
    "    fig.show()"
   ]
  },
  {
   "cell_type": "markdown",
   "metadata": {},
   "source": [
    "# uber-raw-data-14.csv"
   ]
  },
  {
   "cell_type": "markdown",
   "metadata": {},
   "source": [
    "## Pickups in each month"
   ]
  },
  {
   "cell_type": "code",
   "execution_count": null,
   "metadata": {},
   "outputs": [],
   "source": [
    "visualize_month()"
   ]
  },
  {
   "cell_type": "code",
   "execution_count": null,
   "metadata": {
    "scrolled": false
   },
   "outputs": [],
   "source": [
    "for month in range(6, 9):\n",
    "    visualize_month(months=[month])"
   ]
  },
  {
   "cell_type": "markdown",
   "metadata": {},
   "source": [
    "## Pickups per week day"
   ]
  },
  {
   "cell_type": "code",
   "execution_count": null,
   "metadata": {},
   "outputs": [],
   "source": [
    "visualize_week_day()"
   ]
  },
  {
   "cell_type": "markdown",
   "metadata": {},
   "source": [
    "## Pickups for day time"
   ]
  },
  {
   "cell_type": "code",
   "execution_count": null,
   "metadata": {},
   "outputs": [],
   "source": [
    "visualize_by_time()"
   ]
  },
  {
   "cell_type": "code",
   "execution_count": null,
   "metadata": {
    "scrolled": false
   },
   "outputs": [],
   "source": [
    "visualize_by_time(hours=range(7, 10))"
   ]
  },
  {
   "cell_type": "code",
   "execution_count": null,
   "metadata": {},
   "outputs": [],
   "source": [
    "visualize_by_time(hours=list(range(15, 18)))"
   ]
  },
  {
   "cell_type": "code",
   "execution_count": null,
   "metadata": {},
   "outputs": [],
   "source": []
  }
 ],
 "metadata": {
  "kernelspec": {
   "display_name": "Python 3 (ipykernel)",
   "language": "python",
   "name": "python3"
  },
  "language_info": {
   "codemirror_mode": {
    "name": "ipython",
    "version": 3
   },
   "file_extension": ".py",
   "mimetype": "text/x-python",
   "name": "python",
   "nbconvert_exporter": "python",
   "pygments_lexer": "ipython3",
   "version": "3.11.2"
  }
 },
 "nbformat": 4,
 "nbformat_minor": 4
}
