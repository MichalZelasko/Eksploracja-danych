{
 "cells": [
  {
   "cell_type": "markdown",
   "metadata": {},
   "source": [
    "# Imports"
   ]
  },
  {
   "cell_type": "code",
   "execution_count": 1,
   "metadata": {},
   "outputs": [],
   "source": [
    "import plotly.express as px\n",
    "import pandas as pd\n",
    "dictionary = {\"Monday\": 1, \"Tuesday\": 2, \"Wednesday\": 3, \"Thursday\": 4, \"Friday\": 5, \"Saturday\": 6, \"Sunday\": 7}"
   ]
  },
  {
   "cell_type": "markdown",
   "metadata": {},
   "source": [
    "# Function definitions"
   ]
  },
  {
   "cell_type": "code",
   "execution_count": 2,
   "metadata": {},
   "outputs": [],
   "source": [
    "def visualize_month(m = 10000, filepath = \"..\\\\data\\\\data_refactored\\\\uber-raw-data-14.csv\", latit = \"Lat\", longi = \"Lon\"):\n",
    "    \"\"\"Zwizualizowanie rozłożenie zamówień według miesięcy\"\"\"\n",
    "    \"\"\"Pokazuje m punktów (domyślnie 10000), wybierane są one równomiernie z całego zbioru\"\"\"\n",
    "    df = pd.read_csv(filepath)\n",
    "    n = len(df) // m\n",
    "    df = df.iloc[::n, :]\n",
    "    fig = px.scatter_mapbox(df, lat=latit, lon=longi, color=\"Month\", size=\"Year\",\n",
    "                      color_continuous_scale=px.colors.cyclical.IceFire, size_max=3, zoom=10,\n",
    "                      mapbox_style=\"carto-positron\")\n",
    "    fig.show()"
   ]
  },
  {
   "cell_type": "code",
   "execution_count": 3,
   "metadata": {},
   "outputs": [],
   "source": [
    "def visualize_week_day(m = 10000, filepath = \"..\\\\data\\\\data_refactored\\\\uber-raw-data-14.csv\", latit = \"Lat\", longi = \"Lon\"):\n",
    "    \"\"\"Zwizualizowanie rozłożenie zamówień według dni tygodnia\"\"\"\n",
    "    \"\"\"Pokazuje m punktów (domyślnie 10000), wybierane są one równomiernie z całego zbioru\"\"\"\n",
    "    df = pd.read_csv(filepath)\n",
    "    n = len(df) // m\n",
    "    df = df.iloc[::n, :]\n",
    "    df.replace({\"Day_Name\": dictionary})\n",
    "    fig = px.scatter_mapbox(df, lat=latit, lon=longi, color=\"Day_Name\", size=\"Year\",\n",
    "                      color_continuous_scale=px.colors.cyclical.IceFire, size_max=3, zoom=10,\n",
    "                      mapbox_style=\"carto-positron\")\n",
    "    fig.show()"
   ]
  },
  {
   "cell_type": "code",
   "execution_count": 4,
   "metadata": {},
   "outputs": [],
   "source": [
    "def visualize_by_time(dest_month, dest_day_name, filepath = \"..\\\\data\\\\data_refactored\\\\uber-raw-data-14.csv\", m = 10000, latit = \"Lat\", longi = \"Lon\"):\n",
    "    \"\"\"Zwizualizowanie rozłożenie zamówień według pory dnia\"\"\"\n",
    "    \"\"\"Pokazuje m punktów (domyślnie 10000), wybierane są one równomiernie z całego zbioru\"\"\"\n",
    "    df = pd.read_csv(filepath)\n",
    "    if dest_month: df = df[df[\"Month\"] == dest_month]\n",
    "    if dest_day_name: df = df[df[\"Day_Name\"] == dest_day_name]\n",
    "    n = len(df) // m\n",
    "    df = df.iloc[::n, :]\n",
    "    df.replace({\"Day_Name\": dictionary})\n",
    "    fig = px.scatter_mapbox(df, lat=latit, lon=longi, color=\"Minutes\", size=\"Year\",\n",
    "                      color_continuous_scale=px.colors.cyclical.IceFire, size_max=3, zoom=10,\n",
    "                      mapbox_style=\"carto-positron\")\n",
    "    fig.show()"
   ]
  },
  {
   "cell_type": "markdown",
   "metadata": {},
   "source": [
    "# uber-raw-data-14.csv"
   ]
  },
  {
   "cell_type": "markdown",
   "metadata": {},
   "source": [
    "## Pickups in each month"
   ]
  },
  {
   "cell_type": "code",
   "execution_count": 5,
   "metadata": {},
   "outputs": [],
   "source": [
    "visualize_month()"
   ]
  },
  {
   "cell_type": "markdown",
   "metadata": {},
   "source": [
    "## Pickups per week day"
   ]
  },
  {
   "cell_type": "code",
   "execution_count": null,
   "metadata": {},
   "outputs": [],
   "source": [
    "visualize_week_day()"
   ]
  },
  {
   "cell_type": "markdown",
   "metadata": {},
   "source": [
    "## Pickups for day time"
   ]
  },
  {
   "cell_type": "markdown",
   "metadata": {},
   "source": [
    "### September Monday"
   ]
  },
  {
   "cell_type": "code",
   "execution_count": null,
   "metadata": {},
   "outputs": [],
   "source": [
    "dest_month = 9\n",
    "dest_day_name = \"Monday\"\n",
    "visualize_by_time(dest_month, dest_day_name)"
   ]
  },
  {
   "cell_type": "markdown",
   "metadata": {},
   "source": [
    "### June Tuesday"
   ]
  },
  {
   "cell_type": "code",
   "execution_count": null,
   "metadata": {},
   "outputs": [],
   "source": [
    "dest_month = 6\n",
    "dest_day_name = \"Tuesday\"\n",
    "visualize_by_time(dest_month, dest_day_name)"
   ]
  },
  {
   "cell_type": "markdown",
   "metadata": {},
   "source": [
    "### July, Saturday "
   ]
  },
  {
   "cell_type": "code",
   "execution_count": null,
   "metadata": {},
   "outputs": [],
   "source": [
    "dest_month = 7\n",
    "dest_day_name = \"Saturday\"\n",
    "visualize_by_time(dest_month, dest_day_name)"
   ]
  },
  {
   "cell_type": "markdown",
   "metadata": {},
   "source": [
    "### July, Sunday"
   ]
  },
  {
   "cell_type": "code",
   "execution_count": null,
   "metadata": {},
   "outputs": [],
   "source": [
    "dest_month = 7\n",
    "dest_day_name = \"Sunday\"\n",
    "visualize_by_time(dest_month, dest_day_name)"
   ]
  },
  {
   "cell_type": "markdown",
   "metadata": {},
   "source": [
    "# other-Lyft_B02510.csv"
   ]
  },
  {
   "cell_type": "markdown",
   "metadata": {},
   "source": [
    "## Pickups in each month"
   ]
  },
  {
   "cell_type": "code",
   "execution_count": null,
   "metadata": {},
   "outputs": [],
   "source": [
    "visualize_month(filepath = \"..\\\\data\\\\data_refactored\\\\other-Lyft_B02510.csv\", latit = \"start_lat\", longi = \"start_lng\")"
   ]
  },
  {
   "cell_type": "markdown",
   "metadata": {},
   "source": [
    "## Pickups per week days"
   ]
  },
  {
   "cell_type": "code",
   "execution_count": null,
   "metadata": {},
   "outputs": [],
   "source": [
    "visualize_week_day(filepath = \"..\\\\data\\\\data_refactored\\\\other-Lyft_B02510.csv\", latit = \"start_lat\", longi = \"start_lng\")"
   ]
  },
  {
   "cell_type": "markdown",
   "metadata": {},
   "source": [
    "## Pickups per daytime"
   ]
  },
  {
   "cell_type": "markdown",
   "metadata": {},
   "source": [
    "### August Monday"
   ]
  },
  {
   "cell_type": "code",
   "execution_count": null,
   "metadata": {},
   "outputs": [],
   "source": [
    "dest_month = 8\n",
    "dest_day_name = \"Monday\"\n",
    "visualize_by_time(dest_month, dest_day_name, filepath = \"..\\\\data\\\\data_refactored\\\\other-Lyft_B02510.csv\", latit = \"start_lat\", longi = \"start_lng\")"
   ]
  },
  {
   "cell_type": "markdown",
   "metadata": {},
   "source": [
    "### August Saturday"
   ]
  },
  {
   "cell_type": "code",
   "execution_count": null,
   "metadata": {},
   "outputs": [],
   "source": [
    "dest_month = 8\n",
    "dest_day_name = \"Saturday\"\n",
    "visualize_by_time(dest_month, dest_day_name, filepath = \"..\\\\data\\\\data_refactored\\\\other-Lyft_B02510.csv\", latit = \"start_lat\", longi = \"start_lng\")"
   ]
  },
  {
   "cell_type": "markdown",
   "metadata": {},
   "source": [
    "### August Sunday"
   ]
  },
  {
   "cell_type": "code",
   "execution_count": null,
   "metadata": {},
   "outputs": [],
   "source": [
    "dest_month = 8\n",
    "dest_day_name = \"Sunday\"\n",
    "visualize_by_time(dest_month, dest_day_name, filepath = \"..\\\\data\\\\data_refactored\\\\other-Lyft_B02510.csv\", latit = \"start_lat\", longi = \"start_lng\")"
   ]
  },
  {
   "cell_type": "markdown",
   "metadata": {},
   "source": [
    "### September Wednesday"
   ]
  },
  {
   "cell_type": "code",
   "execution_count": null,
   "metadata": {},
   "outputs": [],
   "source": [
    "dest_month = 9\n",
    "dest_day_name = \"Wednesday\"\n",
    "visualize_by_time(dest_month, dest_day_name, filepath = \"..\\\\data\\\\data_refactored\\\\other-Lyft_B02510.csv\", latit = \"start_lat\", longi = \"start_lng\")"
   ]
  },
  {
   "cell_type": "markdown",
   "metadata": {},
   "source": [
    "### September Friday"
   ]
  },
  {
   "cell_type": "code",
   "execution_count": null,
   "metadata": {},
   "outputs": [],
   "source": [
    "dest_month = 9\n",
    "dest_day_name = \"Friday\"\n",
    "visualize_by_time(dest_month, dest_day_name, filepath = \"..\\\\data\\\\data_refactored\\\\other-Lyft_B02510.csv\", latit = \"start_lat\", longi = \"start_lng\")"
   ]
  },
  {
   "cell_type": "markdown",
   "metadata": {},
   "source": [
    "### September Saturday"
   ]
  },
  {
   "cell_type": "code",
   "execution_count": null,
   "metadata": {},
   "outputs": [],
   "source": [
    "dest_month = 9\n",
    "dest_day_name = \"Friday\"\n",
    "visualize_by_time(dest_month, dest_day_name, filepath = \"..\\\\data\\\\data_refactored\\\\other-Lyft_B02510.csv\", latit = \"start_lat\", longi = \"start_lng\")"
   ]
  },
  {
   "cell_type": "markdown",
   "metadata": {},
   "source": [
    "# other-Federal_02216.csv"
   ]
  },
  {
   "cell_type": "markdown",
   "metadata": {},
   "source": [
    "## Pickups in each month"
   ]
  },
  {
   "cell_type": "markdown",
   "metadata": {},
   "source": [
    "### Pickup points"
   ]
  },
  {
   "cell_type": "code",
   "execution_count": null,
   "metadata": {},
   "outputs": [],
   "source": [
    "df = pd.read_csv(\"..\\\\data\\\\converted\\\\other-Federal_02216.csv\")\n",
    "df[\"Month\"] = df[\"Month\"] - 6\n",
    "fig = px.scatter_mapbox(df, lat=\"PU_Address_latitude\", lon=\"PU_Address_longitude\", color=\"Month\", size=\"Year\",\n",
    "                  color_continuous_scale=px.colors.cyclical.IceFire, size_max=5, zoom=10,\n",
    "                  mapbox_style=\"carto-positron\")\n",
    "fig.show()"
   ]
  },
  {
   "cell_type": "markdown",
   "metadata": {},
   "source": [
    "### Dropout points"
   ]
  },
  {
   "cell_type": "code",
   "execution_count": null,
   "metadata": {},
   "outputs": [],
   "source": [
    "df = pd.read_csv(\"..\\\\data\\\\converted\\\\other-Federal_02216.csv\")\n",
    "df[\"Month\"] = df[\"Month\"] - 6\n",
    "fig = px.scatter_mapbox(df, lat=\"DO_Address_latitude\", lon=\"DO_Address_longitude\", color=\"Month\", size=\"Year\",\n",
    "                  color_continuous_scale=px.colors.cyclical.IceFire, size_max=5, zoom=10,\n",
    "                  mapbox_style=\"carto-positron\")\n",
    "fig.show()"
   ]
  },
  {
   "cell_type": "markdown",
   "metadata": {},
   "source": [
    "## Pickups in each week day"
   ]
  },
  {
   "cell_type": "markdown",
   "metadata": {},
   "source": [
    "### Pickup points"
   ]
  },
  {
   "cell_type": "code",
   "execution_count": null,
   "metadata": {},
   "outputs": [],
   "source": [
    "df = pd.read_csv(\"..\\\\data\\\\converted\\\\other-Federal_02216.csv\")\n",
    "dictionary = {\"Monday\": 1, \"Tuesday\": 2, \"Wednesday\": 3, \"Thursday\": 4, \"Friday\": 5, \"Saturday\": 6, \"Sunday\": 7}\n",
    "df.replace({\"Day_Name\": dictionary})\n",
    "fig = px.scatter_mapbox(df, lat=\"PU_Address_latitude\", lon=\"PU_Address_longitude\", color=\"Day_Name\", size=\"Year\",\n",
    "                  color_continuous_scale=px.colors.cyclical.IceFire, size_max=5, zoom=10,\n",
    "                  mapbox_style=\"carto-positron\")\n",
    "fig.show()"
   ]
  },
  {
   "cell_type": "markdown",
   "metadata": {},
   "source": [
    "### Dropout points"
   ]
  },
  {
   "cell_type": "code",
   "execution_count": null,
   "metadata": {},
   "outputs": [],
   "source": [
    "df = pd.read_csv(\"..\\\\data\\\\converted\\\\other-Federal_02216.csv\")\n",
    "dictionary = {\"Monday\": 1, \"Tuesday\": 2, \"Wednesday\": 3, \"Thursday\": 4, \"Friday\": 5, \"Saturday\": 6, \"Sunday\": 7}\n",
    "df.replace({\"Day_Name\": dictionary})\n",
    "fig = px.scatter_mapbox(df, lat=\"DO_Address_latitude\", lon=\"DO_Address_longitude\", color=\"Day_Name\", size=\"Year\",\n",
    "                  color_continuous_scale=px.colors.cyclical.IceFire, size_max=5, zoom=10,\n",
    "                  mapbox_style=\"carto-positron\")\n",
    "fig.show()"
   ]
  },
  {
   "cell_type": "markdown",
   "metadata": {},
   "source": [
    "## Pickups in each day time"
   ]
  },
  {
   "cell_type": "code",
   "execution_count": null,
   "metadata": {},
   "outputs": [],
   "source": [
    "dest_month = None\n",
    "dest_day_name = None"
   ]
  },
  {
   "cell_type": "markdown",
   "metadata": {},
   "source": [
    "### Pickup points"
   ]
  },
  {
   "cell_type": "code",
   "execution_count": null,
   "metadata": {},
   "outputs": [],
   "source": [
    "df = pd.read_csv(\"..\\\\data\\\\converted\\\\other-Federal_02216.csv\")\n",
    "if dest_month: df = df[df[\"Month\"] == dest_month]\n",
    "if dest_day_name: df = df[df[\"Day_Name\"] == dest_day_name]\n",
    "dictionary = {\"Monday\": 1, \"Tuesday\": 2, \"Wednesday\": 3, \"Thursday\": 4, \"Friday\": 5, \"Saturday\": 6, \"Sunday\": 7}\n",
    "df.replace({\"Day_Name\": dictionary})\n",
    "fig = px.scatter_mapbox(df, lat=\"PU_Address_latitude\", lon=\"PU_Address_longitude\", color=\"Minutes\", size=\"Year\",\n",
    "                  color_continuous_scale=px.colors.cyclical.IceFire, size_max=5, zoom=10,\n",
    "                  mapbox_style=\"carto-positron\")\n",
    "fig.show()"
   ]
  },
  {
   "cell_type": "markdown",
   "metadata": {},
   "source": [
    "### Dropout points"
   ]
  },
  {
   "cell_type": "code",
   "execution_count": null,
   "metadata": {},
   "outputs": [],
   "source": [
    "df = pd.read_csv(\"..\\\\data\\\\converted\\\\other-Federal_02216.csv\")\n",
    "if dest_month: df = df[df[\"Month\"] == dest_month]\n",
    "if dest_day_name: df = df[df[\"Day_Name\"] == dest_day_name]\n",
    "dictionary = {\"Monday\": 1, \"Tuesday\": 2, \"Wednesday\": 3, \"Thursday\": 4, \"Friday\": 5, \"Saturday\": 6, \"Sunday\": 7}\n",
    "df.replace({\"Day_Name\": dictionary})\n",
    "fig = px.scatter_mapbox(df, lat=\"DO_Address_latitude\", lon=\"DO_Address_longitude\", color=\"Minutes\", size=\"Year\",\n",
    "                  color_continuous_scale=px.colors.cyclical.IceFire, size_max=5, zoom=10,\n",
    "                  mapbox_style=\"carto-positron\")\n",
    "fig.show()"
   ]
  }
 ],
 "metadata": {
  "kernelspec": {
   "display_name": "Python 3",
   "language": "python",
   "name": "python3"
  },
  "language_info": {
   "codemirror_mode": {
    "name": "ipython",
    "version": 3
   },
   "file_extension": ".py",
   "mimetype": "text/x-python",
   "name": "python",
   "nbconvert_exporter": "python",
   "pygments_lexer": "ipython3",
   "version": "3.8.3"
  }
 },
 "nbformat": 4,
 "nbformat_minor": 4
}
